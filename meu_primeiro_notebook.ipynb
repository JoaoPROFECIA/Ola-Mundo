{
 "cells": [
  {
   "cell_type": "code",
   "execution_count": 1,
   "id": "8f09b6b4",
   "metadata": {},
   "outputs": [
    {
     "name": "stdout",
     "output_type": "stream",
     "text": [
      "4 ao quadrado é igual à 16\n"
     ]
    }
   ],
   "source": [
    "x = 4\n",
    "print(f'{x} ao quadrado é igual à {x**2}')"
   ]
  },
  {
   "cell_type": "markdown",
   "id": "796cf0f0",
   "metadata": {},
   "source": [
    "# Meu título"
   ]
  },
  {
   "cell_type": "markdown",
   "id": "41425e5f",
   "metadata": {},
   "source": [
    "Minha lista:\n",
    "- item 1\n",
    "- item 2\n",
    "- item 3"
   ]
  },
  {
   "cell_type": "code",
   "execution_count": null,
   "id": "e2049250",
   "metadata": {},
   "outputs": [],
   "source": []
  },
  {
   "cell_type": "code",
   "execution_count": null,
   "id": "989a636a",
   "metadata": {},
   "outputs": [],
   "source": []
  },
  {
   "cell_type": "code",
   "execution_count": null,
   "id": "0887669c",
   "metadata": {},
   "outputs": [],
   "source": []
  },
  {
   "cell_type": "code",
   "execution_count": null,
   "id": "79cd635a",
   "metadata": {},
   "outputs": [],
   "source": []
  }
 ],
 "metadata": {
  "kernelspec": {
   "display_name": "Python 3 (ipykernel)",
   "language": "python",
   "name": "python3"
  },
  "language_info": {
   "codemirror_mode": {
    "name": "ipython",
    "version": 3
   },
   "file_extension": ".py",
   "mimetype": "text/x-python",
   "name": "python",
   "nbconvert_exporter": "python",
   "pygments_lexer": "ipython3",
   "version": "3.10.4"
  }
 },
 "nbformat": 4,
 "nbformat_minor": 5
}
